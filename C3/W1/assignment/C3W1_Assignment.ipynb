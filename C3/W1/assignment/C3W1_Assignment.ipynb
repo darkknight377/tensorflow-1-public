{
  "cells": [
    {
      "cell_type": "markdown",
      "id": "a7029ad2",
      "metadata": {
        "id": "a7029ad2"
      },
      "source": [
        "# Week 1: Explore the BBC News archive\n",
        "\n",
        "Welcome! In this assignment you will be working with a variation of the [BBC News Classification Dataset](https://www.kaggle.com/c/learn-ai-bbc/overview), which contains 2225 examples of news articles with their respective categories.\n",
        "\n",
        "\n",
        "#### TIPS FOR SUCCESSFUL GRADING OF YOUR ASSIGNMENT:\n",
        "- All cells are frozen except for the ones where you need to submit your solutions or when explicitly mentioned you can interact with it.\n",
        "\n",
        "- You can add new cells to experiment but these will be omitted by the grader, so don't rely on newly created cells to host your solution code, use the provided places for this.\n",
        "- You can add the comment # grade-up-to-here in any graded cell to signal the grader that it must only evaluate up to that point. This is helpful if you want to check if you are on the right track even if you are not done with the whole assignment. Be sure to remember to delete the comment afterwards!\n",
        "- Avoid using global variables unless you absolutely have to. The grader tests your code in an isolated environment without running all cells from the top. As a result, global variables may be unavailable when scoring your submission. Global variables that are meant to be used will be defined in UPPERCASE.\n",
        "- To submit your notebook, save it and then click on the blue submit button at the beginning of the page.\n",
        "\n",
        "\n",
        "Let's get started!"
      ]
    },
    {
      "cell_type": "code",
      "execution_count": 1,
      "id": "18e757f2",
      "metadata": {
        "deletable": false,
        "editable": false,
        "id": "18e757f2",
        "tags": [
          "graded"
        ]
      },
      "outputs": [],
      "source": [
        "import csv\n",
        "import pandas as pd\n",
        "import numpy as np\n",
        "import tensorflow as tf"
      ]
    },
    {
      "cell_type": "code",
      "execution_count": null,
      "id": "48119af8-9469-420c-acb6-d57f03e1f20a",
      "metadata": {
        "deletable": false,
        "editable": false,
        "id": "48119af8-9469-420c-acb6-d57f03e1f20a"
      },
      "outputs": [],
      "source": [
        "import unittests"
      ]
    },
    {
      "cell_type": "code",
      "source": [
        "!mkdir data && mv bbc-text.csv data/"
      ],
      "metadata": {
        "id": "etIxJzlC_6qO"
      },
      "id": "etIxJzlC_6qO",
      "execution_count": 7,
      "outputs": []
    },
    {
      "cell_type": "markdown",
      "id": "f2ee7f84",
      "metadata": {
        "id": "f2ee7f84"
      },
      "source": [
        "Begin by looking at the structure of the csv that contains the data:"
      ]
    },
    {
      "cell_type": "code",
      "source": [
        "!wget -nc https://storage.googleapis.com/tensorflow-1-public/course3/bbc-text.csv\n"
      ],
      "metadata": {
        "id": "tRcQQ4AY_D52",
        "outputId": "df1b2008-7ec7-4f3d-8319-64dbffc9e052",
        "colab": {
          "base_uri": "https://localhost:8080/"
        }
      },
      "id": "tRcQQ4AY_D52",
      "execution_count": 3,
      "outputs": [
        {
          "output_type": "stream",
          "name": "stdout",
          "text": [
            "--2025-02-01 14:48:56--  https://storage.googleapis.com/tensorflow-1-public/course3/bbc-text.csv\n",
            "Resolving storage.googleapis.com (storage.googleapis.com)... 142.251.167.207, 172.253.62.207, 172.253.115.207, ...\n",
            "Connecting to storage.googleapis.com (storage.googleapis.com)|142.251.167.207|:443... connected.\n",
            "HTTP request sent, awaiting response... 404 Not Found\n",
            "2025-02-01 14:48:57 ERROR 404: Not Found.\n",
            "\n"
          ]
        }
      ]
    },
    {
      "cell_type": "code",
      "execution_count": 8,
      "id": "ffae3497",
      "metadata": {
        "deletable": false,
        "editable": false,
        "id": "ffae3497",
        "outputId": "2b1df47c-ae91-4adb-f0ea-7fdeafef0274",
        "colab": {
          "base_uri": "https://localhost:8080/"
        }
      },
      "outputs": [
        {
          "output_type": "stream",
          "name": "stdout",
          "text": [
            "First line (header) looks like this:\n",
            "\n",
            "ArticleId,Text,Category\n",
            "\n",
            "Each data point looks like this:\n",
            "\n",
            "1833,worldcom ex-boss launches defence lawyers defending former worldcom chief bernie ebbers against a battery of fraud charges have called a company whistleblower as their first witness.  cynthia cooper  worldcom s ex-head of internal accounting  alerted directors to irregular accounting practices at the us telecoms giant in 2002. her warnings led to the collapse of the firm following the discovery of an $11bn (£5.7bn) accounting fraud. mr ebbers has pleaded not guilty to charges of fraud and conspiracy.  prosecution lawyers have argued that mr ebbers orchestrated a series of accounting tricks at worldcom  ordering employees to hide expenses and inflate revenues to meet wall street earnings estimates. but ms cooper  who now runs her own consulting business  told a jury in new york on wednesday that external auditors arthur andersen had approved worldcom s accounting in early 2001 and 2002. she said andersen had given a  green light  to the procedures and practices used by worldcom. mr ebber s lawyers have said he was unaware of the fraud  arguing that auditors did not alert him to any problems.  ms cooper also said that during shareholder meetings mr ebbers often passed over technical questions to the company s finance chief  giving only  brief  answers himself. the prosecution s star witness  former worldcom financial chief scott sullivan  has said that mr ebbers ordered accounting adjustments at the firm  telling him to  hit our books . however  ms cooper said mr sullivan had not mentioned  anything uncomfortable  about worldcom s accounting during a 2001 audit committee meeting. mr ebbers could face a jail sentence of 85 years if convicted of all the charges he is facing. worldcom emerged from bankruptcy protection in 2004  and is now known as mci. last week  mci agreed to a buyout by verizon communications in a deal valued at $6.75bn.,business\n",
            "\n"
          ]
        }
      ],
      "source": [
        "with open(\"./data/bbc-text.csv\", 'r') as csvfile:\n",
        "    print(f\"First line (header) looks like this:\\n\\n{csvfile.readline()}\")\n",
        "    print(f\"Each data point looks like this:\\n\\n{csvfile.readline()}\")"
      ]
    },
    {
      "cell_type": "markdown",
      "id": "1624e420",
      "metadata": {
        "id": "1624e420"
      },
      "source": [
        "As you can see, each data point is composed of the category of the news article followed by a comma and then the actual text of the article."
      ]
    },
    {
      "cell_type": "markdown",
      "id": "28e9d216",
      "metadata": {
        "id": "28e9d216"
      },
      "source": [
        "## Exercise 1: parse_data_from_file\n",
        "\n",
        "The csv is a very common format to store data and you will probably encounter it many times so it is good to be comfortable with it. Your first exercise will be to read the data from the raw csv file so you can analyze it and built models around it. To do so, complete the `parse_data_from_file` function below.\n",
        "\n",
        "Since this format is so common there are a lot of ways to deal with this files using python, both using the standard library or third party libraries such as [pandas](https://pandas.pydata.org/). Because of this the implementation details are entirely up to you, **the only requirement is that your function returns the `sentences` and `labels` as regular python lists**.\n",
        "\n",
        "**Hints**:\n",
        "- Remember the file contains headers so take this into consideration.\n",
        "\n",
        "\n",
        "- If you are unfamiliar with  libraries such as pandas or numpy and you prefer to use python's standard library, take a look at [`csv.reader`](https://docs.python.org/3/library/csv.html#csv.reader), which lets you iterate over the lines of a csv file.\n",
        "- You can use the [`read_csv`](https://pandas.pydata.org/pandas-docs/stable/reference/api/pandas.read_csv.html) function from the pandas library.\n",
        "- You can use the [`loadtxt`](https://numpy.org/doc/stable/reference/generated/numpy.loadtxt.html) function from the numpy library.\n",
        "- If you use any of the two latter approaches remember you still need to convert the `sentences` and `labels` to regular python lists, so take a look at the docs to see how it can be done.\n"
      ]
    },
    {
      "cell_type": "code",
      "execution_count": 11,
      "id": "fd40ca26",
      "metadata": {
        "deletable": false,
        "tags": [
          "graded"
        ],
        "id": "fd40ca26"
      },
      "outputs": [],
      "source": [
        "# GRADED FUNCTION: parse_data_from_file\n",
        "\n",
        "def parse_data_from_file(filename):\n",
        "    \"\"\"\n",
        "    Extracts sentences and labels from a CSV file\n",
        "\n",
        "    Args:\n",
        "        filename (str): path to the CSV file\n",
        "\n",
        "    Returns:\n",
        "        (list[str], list[str]): tuple containing lists of sentences and labels\n",
        "    \"\"\"\n",
        "    sentences = []\n",
        "    labels = []\n",
        "\n",
        "    ### START CODE HERE ###\n",
        "    bbc_text = pd.read_csv(filename)\n",
        "    sentences = bbc_text['Text'].tolist()\n",
        "    labels = bbc_text['Category'].tolist()\n",
        "    ### END CODE HERE ###\n",
        "\n",
        "    return sentences, labels"
      ]
    },
    {
      "cell_type": "code",
      "execution_count": 12,
      "id": "e2c9a86e",
      "metadata": {
        "deletable": false,
        "editable": false,
        "id": "e2c9a86e",
        "outputId": "6c05e638-5b74-405b-f417-351810f76956",
        "colab": {
          "base_uri": "https://localhost:8080/"
        }
      },
      "outputs": [
        {
          "output_type": "stream",
          "name": "stdout",
          "text": [
            "There are 1490 sentences in the dataset.\n",
            "\n",
            "First sentence has 301 words.\n",
            "\n",
            "There are 1490 labels in the dataset.\n",
            "\n",
            "The first 5 labels are ['business', 'business', 'business', 'tech', 'business']\n",
            "\n",
            "\n"
          ]
        }
      ],
      "source": [
        "# Get sentences and labels as python lists\n",
        "sentences, labels = parse_data_from_file(\"./data/bbc-text.csv\")\n",
        "\n",
        "print(f\"There are {len(sentences)} sentences in the dataset.\\n\")\n",
        "print(f\"First sentence has {len(sentences[0].split())} words.\\n\")\n",
        "print(f\"There are {len(labels)} labels in the dataset.\\n\")\n",
        "print(f\"The first 5 labels are {labels[:5]}\\n\\n\")"
      ]
    },
    {
      "cell_type": "markdown",
      "id": "1f2bf934",
      "metadata": {
        "id": "1f2bf934"
      },
      "source": [
        "***Expected Output:***\n",
        "```\n",
        "There are 2225 sentences in the dataset.\n",
        "\n",
        "First sentence has 737 words.\n",
        "\n",
        "There are 2225 labels in the dataset.\n",
        "\n",
        "The first 5 labels are ['tech', 'business', 'sport', 'sport', 'entertainment']\n",
        "\n",
        "```"
      ]
    },
    {
      "cell_type": "code",
      "execution_count": null,
      "id": "f6ad47d2",
      "metadata": {
        "deletable": false,
        "editable": false,
        "id": "f6ad47d2"
      },
      "outputs": [],
      "source": [
        "# Test your code!\n",
        "unittests.test_parse_data_from_file(parse_data_from_file)"
      ]
    },
    {
      "cell_type": "markdown",
      "id": "2db58b95",
      "metadata": {
        "id": "2db58b95"
      },
      "source": [
        "**An important note:**\n",
        "\n",
        "At this point you typically would convert your data into a `tf.data.Dataset` (alternatively you could have used [tf.data.experimental.CsvDataset](https://www.tensorflow.org/api_docs/python/tf/data/experimental/CsvDataset) to do this directly but since this is an experimental feature it is better to avoid when possible) but for this assignment you will keep working with the data as regular python lists.\n",
        "\n",
        "The reason behind this is that by using a `tf.data.Dataset` some parts of this assignment will be much more difficult (in particular the next exercise), because when dealing with tensors you need to take additional considerations that you don't need to when dealing with lists and since this is the first assignment of the course, it is best to keep things simple. During next week's assignment you will get to see how this process looks like but for now carry on with the data in this format and worry not since TensorFlow is still compatible with these data formats!"
      ]
    },
    {
      "cell_type": "markdown",
      "id": "e9df59b3",
      "metadata": {
        "id": "e9df59b3"
      },
      "source": [
        "## Exercise 2: standardize_func\n",
        "\n",
        "One important step when working with text data is to standardize it so it is easier to extract information out of it. For instance, you probably want to convert it all to lower-case (so the same word doesn't have different representations such as \"hello\" and \"Hello\") and to remove the [stopwords](https://en.wikipedia.org/wiki/Stop_word) from it. These are the most common words in the language and they rarely provide useful information for the classification process. The next cell provides a list of common stopwords which you can use in the exercise:\n",
        "\n",
        "\n"
      ]
    },
    {
      "cell_type": "code",
      "execution_count": 14,
      "id": "40742129",
      "metadata": {
        "deletable": false,
        "editable": false,
        "tags": [
          "graded"
        ],
        "id": "40742129"
      },
      "outputs": [],
      "source": [
        "# List of stopwords\n",
        "STOPWORDS = [\"a\", \"about\", \"above\", \"after\", \"again\", \"against\", \"all\", \"am\", \"an\", \"and\", \"any\", \"are\", \"as\", \"at\", \"be\", \"because\", \"been\", \"before\", \"being\", \"below\", \"between\", \"both\", \"but\", \"by\", \"could\", \"did\", \"do\", \"does\", \"doing\", \"down\", \"during\", \"each\", \"few\", \"for\", \"from\", \"further\", \"had\", \"has\", \"have\", \"having\", \"he\", \"he'd\", \"he'll\", \"he's\", \"her\", \"here\", \"here's\", \"hers\", \"herself\", \"him\", \"himself\", \"his\", \"how\", \"how's\", \"i\", \"i'd\", \"i'll\", \"i'm\", \"i've\", \"if\", \"in\", \"into\", \"is\", \"it\", \"it's\", \"its\", \"itself\", \"let's\", \"me\", \"more\", \"most\", \"my\", \"myself\", \"nor\", \"of\", \"on\", \"once\", \"only\", \"or\", \"other\", \"ought\", \"our\", \"ours\", \"ourselves\", \"out\", \"over\", \"own\", \"same\", \"she\", \"she'd\", \"she'll\", \"she's\", \"should\", \"so\", \"some\", \"such\", \"than\", \"that\", \"that's\", \"the\", \"their\", \"theirs\", \"them\", \"themselves\", \"then\", \"there\", \"there's\", \"these\", \"they\", \"they'd\", \"they'll\", \"they're\", \"they've\", \"this\", \"those\", \"through\", \"to\", \"too\", \"under\", \"until\", \"up\", \"very\", \"was\", \"we\", \"we'd\", \"we'll\", \"we're\", \"we've\", \"were\", \"what\", \"what's\", \"when\", \"when's\", \"where\", \"where's\", \"which\", \"while\", \"who\", \"who's\", \"whom\", \"why\", \"why's\", \"with\", \"would\", \"you\", \"you'd\", \"you'll\", \"you're\", \"you've\", \"your\", \"yours\", \"yourself\", \"yourselves\" ]"
      ]
    },
    {
      "cell_type": "markdown",
      "id": "7d81ac27",
      "metadata": {
        "id": "7d81ac27"
      },
      "source": [
        "To achieve this, complete the `standardize_func` below. This function should receive a string and return another string that excludes all of the stopwords provided from it, as well as converting it to lower-case.\n",
        "\n",
        "**Hints:**\n",
        "- You only need to account for whitespace as the separation mechanism between words in the sentence.\n",
        "\n",
        "- The list of stopwords is already provided for you as a global variable you can safely use.\n",
        "\n",
        "- Check out the [lower](https://docs.python.org/3/library/stdtypes.html#str.lower) method for python strings.\n",
        "\n",
        "- The returned sentence should not include extra whitespace so the string \"hello&nbsp;&nbsp;&nbsp;&nbsp;&nbsp;&nbsp;&nbsp;again&nbsp;&nbsp;&nbsp;FRIENDS\" should be standardized to \"hello friends\"."
      ]
    },
    {
      "cell_type": "code",
      "execution_count": 15,
      "id": "33637e35",
      "metadata": {
        "deletable": false,
        "tags": [
          "graded"
        ],
        "id": "33637e35"
      },
      "outputs": [],
      "source": [
        "# GRADED FUNCTION: standardize_func\n",
        "\n",
        "def standardize_func(sentence):\n",
        "    \"\"\"Standardizes sentences by converting to lower-case and removing stopwords.\n",
        "\n",
        "    Args:\n",
        "        sentence (str): Original sentence.\n",
        "\n",
        "    Returns:\n",
        "        str: Standardized sentence in lower-case and without stopwords.\n",
        "    \"\"\"\n",
        "\n",
        "    ### START CODE HERE ###\n",
        "    sentence = sentence.lower()\n",
        "    sentence = sentence.split()\n",
        "    sentence = [word for word in sentence if word not in STOPWORDS]\n",
        "    sentence = ' '.join(sentence)\n",
        "\n",
        "    ### END CODE HERE ###\n",
        "\n",
        "    return sentence"
      ]
    },
    {
      "cell_type": "code",
      "execution_count": 16,
      "id": "7ea8a832",
      "metadata": {
        "deletable": false,
        "editable": false,
        "id": "7ea8a832",
        "outputId": "9047abb1-0395-406a-8f69-57bae7df4770",
        "colab": {
          "base_uri": "https://localhost:8080/"
        }
      },
      "outputs": [
        {
          "output_type": "stream",
          "name": "stdout",
          "text": [
            "Original sentence is:\n",
            "Hello! We're just about to see this function in action =)\n",
            "\n",
            "After standardizing:\n",
            "hello! just see function action =)\n",
            "\n",
            "\n",
            "--- Apply the standardization to the dataset ---\n",
            "\n",
            "There are 1490 sentences in the dataset.\n",
            "\n",
            "First sentence has 301 words originally.\n",
            "\n",
            "First sentence has 203 words (after removing stopwords).\n",
            "\n"
          ]
        }
      ],
      "source": [
        "test_sentence = \"Hello! We're just about to see this function in action =)\"\n",
        "standardized_sentence = standardize_func(test_sentence)\n",
        "print(f\"Original sentence is:\\n{test_sentence}\\n\\nAfter standardizing:\\n{standardized_sentence}\")\n",
        "\n",
        "standard_sentences = [standardize_func(sentence) for sentence in sentences]\n",
        "\n",
        "print(\"\\n\\n--- Apply the standardization to the dataset ---\\n\")\n",
        "print(f\"There are {len(standard_sentences)} sentences in the dataset.\\n\")\n",
        "print(f\"First sentence has {len(sentences[0].split())} words originally.\\n\")\n",
        "print(f\"First sentence has {len(standard_sentences[0].split())} words (after removing stopwords).\\n\")"
      ]
    },
    {
      "cell_type": "markdown",
      "id": "dc6541a8",
      "metadata": {
        "id": "dc6541a8"
      },
      "source": [
        "***Expected Output:***\n",
        "```\n",
        "Original sentence is:\n",
        "Hello! We're just about to see this function in action =)\n",
        "\n",
        "After standardizing:\n",
        "hello! just see function action =)\n",
        "\n",
        "\n",
        "--- Apply the standardization to the dataset ---\n",
        "\n",
        "There are 2225 sentences in the dataset.\n",
        "\n",
        "First sentence has 737 words originally.\n",
        "\n",
        "First sentence has 436 words (after removing stopwords).\n",
        "\n",
        "```"
      ]
    },
    {
      "cell_type": "code",
      "execution_count": null,
      "id": "a446bcc2-03b3-4c3a-8f20-35cf5f3ee91c",
      "metadata": {
        "deletable": false,
        "editable": false,
        "id": "a446bcc2-03b3-4c3a-8f20-35cf5f3ee91c"
      },
      "outputs": [],
      "source": [
        "# Test your code!\n",
        "unittests.test_standardize_func(standardize_func)"
      ]
    },
    {
      "cell_type": "markdown",
      "id": "42be5c19",
      "metadata": {
        "id": "42be5c19"
      },
      "source": [
        "With the dataset standardized you could go ahead and convert it to a `tf.data.Dataset`, which you will NOT be doing for this assignment. However if you are curious, this can be achieved like this:\n",
        "\n",
        "```python\n",
        "dataset = tf.data.Dataset.from_tensor_slices((standard_sentences, labels))\n",
        "```"
      ]
    },
    {
      "cell_type": "markdown",
      "id": "93500124",
      "metadata": {
        "id": "93500124"
      },
      "source": [
        "## Exercise 3: fit_vectorizer\n",
        "\n",
        "Now that your data is standardized, it is time to vectorize the sentences of the dataset. For this complete the `fit_vectorizer` below.\n",
        "\n",
        "This function should receive the list of sentences as input and return a [`tf.keras.layers.TextVectorization`](https://www.tensorflow.org/api_docs/python/tf/keras/layers/TextVectorization) that has been adapted to those sentences."
      ]
    },
    {
      "cell_type": "code",
      "execution_count": 18,
      "id": "a27dedb7",
      "metadata": {
        "deletable": false,
        "tags": [
          "graded"
        ],
        "id": "a27dedb7"
      },
      "outputs": [],
      "source": [
        "# GRADED FUNCTION: fit_vectorizer\n",
        "\n",
        "def fit_vectorizer(sentences):\n",
        "    \"\"\"\n",
        "    Instantiates the TextVectorization layer and adapts it to the sentences.\n",
        "\n",
        "    Args:\n",
        "        sentences (list[str]): lower-cased sentences without stopwords\n",
        "\n",
        "    Returns:\n",
        "        tf.keras.layers.TextVectorization: an instance of the TextVectorization layer adapted to the texts.\n",
        "    \"\"\"\n",
        "\n",
        "    ### START CODE HERE ###\n",
        "\n",
        "    # Instantiate the Tokenizer class by passing in the oov_token argument\n",
        "    vectorizer = tf.keras.layers.TextVectorization()\n",
        "\n",
        "    # Adapt the tokenizer\n",
        "    vectorizer.adapt(sentences)\n",
        "\n",
        "    ### END CODE HERE ###\n",
        "\n",
        "    return vectorizer"
      ]
    },
    {
      "cell_type": "code",
      "execution_count": 19,
      "id": "edfc1352-1a2c-4e70-b656-eba2a1e23f0d",
      "metadata": {
        "deletable": false,
        "editable": false,
        "id": "edfc1352-1a2c-4e70-b656-eba2a1e23f0d",
        "outputId": "b64b8d07-8c0a-418a-e652-00845b7fb855",
        "colab": {
          "base_uri": "https://localhost:8080/"
        }
      },
      "outputs": [
        {
          "output_type": "stream",
          "name": "stdout",
          "text": [
            "Vocabulary contains 27500 words\n",
            "\n",
            "[UNK] token included in vocabulary\n"
          ]
        }
      ],
      "source": [
        "# Create the vectorizer adapted to the standardized sentences\n",
        "vectorizer = fit_vectorizer(standard_sentences)\n",
        "\n",
        "# Get the vocabulary\n",
        "vocabulary = vectorizer.get_vocabulary()\n",
        "\n",
        "print(f\"Vocabulary contains {len(vocabulary)} words\\n\")\n",
        "print(\"[UNK] token included in vocabulary\" if \"[UNK]\" in vocabulary else \"[UNK] token NOT included in vocabulary\")"
      ]
    },
    {
      "cell_type": "markdown",
      "id": "a909d650",
      "metadata": {
        "id": "a909d650"
      },
      "source": [
        "***Expected Output:***\n",
        "```\n",
        "Vocabulary contains 33088 words\n",
        "\n",
        "[UNK] token included in vocabulary\n",
        "\n",
        "```"
      ]
    },
    {
      "cell_type": "code",
      "execution_count": null,
      "id": "24289640-08f7-4b90-9ba5-936cba61e31a",
      "metadata": {
        "deletable": false,
        "editable": false,
        "id": "24289640-08f7-4b90-9ba5-936cba61e31a"
      },
      "outputs": [],
      "source": [
        "# Test your code!\n",
        "unittests.test_fit_vectorizer(fit_vectorizer)"
      ]
    },
    {
      "cell_type": "markdown",
      "id": "4265c298",
      "metadata": {
        "id": "4265c298"
      },
      "source": [
        "Next, you can use the adapted vectorizer to vectorize the sentences in your dataset. Notice that by default `tf.keras.layers.TextVectorization` pads the sequences so all of them have the same length (typically the length of the longest sentence will be used if no truncation is defined), this is important because neural networks expect the inputs to have the same size."
      ]
    },
    {
      "cell_type": "code",
      "execution_count": 20,
      "id": "679f64b3-5c56-41e0-8f35-33e254debf10",
      "metadata": {
        "deletable": false,
        "editable": false,
        "id": "679f64b3-5c56-41e0-8f35-33e254debf10",
        "outputId": "3238cdc8-202a-442b-8032-1da0b0b7eab2",
        "colab": {
          "base_uri": "https://localhost:8080/"
        }
      },
      "outputs": [
        {
          "output_type": "stream",
          "name": "stdout",
          "text": [
            "First padded sequence looks like this: \n",
            "\n",
            "[ 1272 15222  4201 ...     0     0     0]\n",
            "\n",
            "Tensor of all sequences has shape: (1490, 1849)\n",
            "\n",
            "This means there are 1490 sequences in total and each one has a size of 1849\n"
          ]
        }
      ],
      "source": [
        "# Vectorize and pad sentences\n",
        "padded_sequences = vectorizer(standard_sentences)\n",
        "\n",
        "# Show the output\n",
        "print(f\"First padded sequence looks like this: \\n\\n{padded_sequences[0]}\\n\")\n",
        "print(f\"Tensor of all sequences has shape: {padded_sequences.shape}\\n\")\n",
        "print(f\"This means there are {padded_sequences.shape[0]} sequences in total and each one has a size of {padded_sequences.shape[1]}\")"
      ]
    },
    {
      "cell_type": "markdown",
      "id": "ff3ef524",
      "metadata": {
        "id": "ff3ef524"
      },
      "source": [
        "Notice that now the variable refers to `sequences` rather than `sentences`. This is because all your text data is now encoded as a sequence of integers."
      ]
    },
    {
      "cell_type": "markdown",
      "id": "2558ecac-f7c3-4417-bef7-8d926a225b01",
      "metadata": {
        "id": "2558ecac-f7c3-4417-bef7-8d926a225b01"
      },
      "source": [
        "## Exercise 4: fit_label_encoder\n",
        "\n",
        "\n",
        "With the sentences already vectorized it is time to encode the labels so they can also be fed into a neural network. For this complete the `fit_label_encoder` below.\n",
        "\n",
        "This function should receive the list of labels as input and return a [`tf.keras.layers.StringLookup`](https://www.tensorflow.org/api_docs/python/tf/keras/layers/StringLookup) that has been adapted to those sentences. In theory you could also use `tf.keras.layers.TextVectorization` layer here but it provides a lot of extra functionality that is not required so it ends up being overkill. `tf.keras.layers.StringLookup` is able to perform the job just fine and it is much simpler.\n",
        "\n",
        "**Hints:**\n",
        "- Since all of the texts have their corresponding labels you need to ensure that the vocabulary does not include the out-of-vocabulary (OOV) token since that is not a valid label."
      ]
    },
    {
      "cell_type": "code",
      "execution_count": 27,
      "id": "aa48558a",
      "metadata": {
        "deletable": false,
        "tags": [
          "graded"
        ],
        "id": "aa48558a"
      },
      "outputs": [],
      "source": [
        "# GRADED FUNCTION: fit_label_encoder\n",
        "\n",
        "def fit_label_encoder(labels):\n",
        "    \"\"\"\n",
        "    Tokenizes the labels\n",
        "\n",
        "    Args:\n",
        "        labels (list[str]): labels to tokenize\n",
        "\n",
        "    Returns:\n",
        "        tf.keras.layers.StringLookup: adapted encoder for labels\n",
        "    \"\"\"\n",
        "    ### START CODE HERE ###\n",
        "\n",
        "    # Instantiate the StringLookup layer. Remember that you don't want any OOV tokens!\n",
        "    label_encoder = tf.keras.layers.StringLookup(num_oov_indices=0)\n",
        "\n",
        "    # Adapt the StringLookup layer to the labels\n",
        "    label_encoder.adapt(labels)\n",
        "\n",
        "    ### END CODE HERE ###\n",
        "\n",
        "    return label_encoder"
      ]
    },
    {
      "cell_type": "code",
      "execution_count": 28,
      "id": "dd71a405",
      "metadata": {
        "deletable": false,
        "editable": false,
        "id": "dd71a405",
        "outputId": "8637dc2f-0626-46e4-98af-b341403c6b36",
        "colab": {
          "base_uri": "https://localhost:8080/"
        }
      },
      "outputs": [
        {
          "output_type": "stream",
          "name": "stdout",
          "text": [
            "Vocabulary of labels looks like this: ['sport', 'business', 'politics', 'entertainment', 'tech']\n",
            "\n",
            "First ten labels: ['business', 'business', 'business', 'tech', 'business', 'politics', 'sport', 'entertainment', 'business', 'entertainment']\n",
            "\n",
            "First ten label sequences: [1 1 1 4 1 2 0 3 1 3]\n",
            "\n"
          ]
        }
      ],
      "source": [
        "# Create the encoder adapted to the labels\n",
        "label_encoder = fit_label_encoder(labels)\n",
        "\n",
        "# Get the vocabulary\n",
        "vocabulary = label_encoder.get_vocabulary()\n",
        "\n",
        "# Encode labels\n",
        "label_sequences = label_encoder(labels)\n",
        "\n",
        "print(f\"Vocabulary of labels looks like this: {vocabulary}\\n\")\n",
        "print(f\"First ten labels: {labels[:10]}\\n\")\n",
        "print(f\"First ten label sequences: {label_sequences[:10]}\\n\")"
      ]
    },
    {
      "cell_type": "markdown",
      "id": "2e187514",
      "metadata": {
        "id": "2e187514"
      },
      "source": [
        "***Expected Output:***\n",
        "```\n",
        "Vocabulary of labels looks like this: ['sport', 'business', 'politics', 'tech', 'entertainment']\n",
        "\n",
        "First ten labels: ['tech', 'business', 'sport', 'sport', 'entertainment', 'politics', 'politics', 'sport', 'sport', 'entertainment']\n",
        "\n",
        "First ten label sequences: [3 1 0 0 4 2 2 0 0 4]\n",
        "\n",
        "```"
      ]
    },
    {
      "cell_type": "markdown",
      "id": "03383492",
      "metadata": {
        "id": "03383492"
      },
      "source": [
        "You should see that each encoded label corresponds to the index of its corresponding label in the vocabulary!"
      ]
    },
    {
      "cell_type": "code",
      "execution_count": null,
      "id": "71e8ad91-049b-47cf-85f8-51350635a81e",
      "metadata": {
        "deletable": false,
        "editable": false,
        "id": "71e8ad91-049b-47cf-85f8-51350635a81e"
      },
      "outputs": [],
      "source": [
        "# Test your code!\n",
        "unittests.test_fit_label_encoder(fit_label_encoder)"
      ]
    },
    {
      "cell_type": "markdown",
      "id": "dcb859f2",
      "metadata": {
        "id": "dcb859f2"
      },
      "source": [
        "Great job! Now you have successfully performed all the necessary steps to train a neural network capable of processing text. This is all for now but in next week's assignment you will train a model capable of classifying the texts in this same dataset!\n",
        "\n",
        "\n",
        "**Congratulations on finishing this week's assignment!**\n",
        "\n",
        "You have successfully implemented functions to process various text data processing ranging from pre-processing, reading from raw files and tokenizing text.\n",
        "\n",
        "**Keep it up!**"
      ]
    }
  ],
  "metadata": {
    "dlai_version": "1.2.0",
    "grader_version": "1",
    "kernelspec": {
      "display_name": "Python 3 (ipykernel)",
      "language": "python",
      "name": "python3"
    },
    "language_info": {
      "codemirror_mode": {
        "name": "ipython",
        "version": 3
      },
      "file_extension": ".py",
      "mimetype": "text/x-python",
      "name": "python",
      "nbconvert_exporter": "python",
      "pygments_lexer": "ipython3",
      "version": "3.11.5"
    },
    "colab": {
      "provenance": []
    }
  },
  "nbformat": 4,
  "nbformat_minor": 5
}